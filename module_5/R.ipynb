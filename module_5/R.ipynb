{
 "cells": [
  {
   "cell_type": "code",
   "execution_count": null,
   "id": "93f1ff1c",
   "metadata": {
    "vscode": {
     "languageId": "r"
    }
   },
   "outputs": [
    {
     "name": "stdout",
     "output_type": "stream",
     "text": [
      "The rpy2.ipython extension is already loaded. To reload it, use:\n",
      "  %reload_ext rpy2.ipython\n"
     ]
    }
   ],
   "source": [
    "%load_ext rpy2.ipython\n",
    "\n",
    "\n"
   ]
  },
  {
   "cell_type": "code",
   "execution_count": null,
   "id": "979bab16",
   "metadata": {
    "vscode": {
     "languageId": "r"
    }
   },
   "outputs": [
    {
     "name": "stdout",
     "output_type": "stream",
     "text": [
      "     speed           dist       \n",
      " Min.   : 4.0   Min.   :  2.00  \n",
      " 1st Qu.:12.0   1st Qu.: 26.00  \n",
      " Median :15.0   Median : 36.00  \n",
      " Mean   :15.4   Mean   : 42.98  \n",
      " 3rd Qu.:19.0   3rd Qu.: 56.00  \n",
      " Max.   :25.0   Max.   :120.00  \n"
     ]
    },
    {
     "data": {
      "text/plain": [
       "In addition: Warning message:\n",
       "In (function (package, help, pos = 2, lib.loc = NULL, character.only = FALSE,  :\n",
       "  libraries ‘/usr/local/lib/R/site-library’, ‘/usr/lib/R/site-library’ contain no packages\n"
      ]
     },
     "metadata": {},
     "output_type": "display_data"
    }
   ],
   "source": [
    "%%R\n",
    "summary(cars)"
   ]
  },
  {
   "cell_type": "code",
   "execution_count": null,
   "id": "e268f4e9",
   "metadata": {
    "vscode": {
     "languageId": "r"
    }
   },
   "outputs": [
    {
     "data": {
      "text/html": [
       "1"
      ],
      "text/latex": [
       "1"
      ],
      "text/markdown": [
       "1"
      ],
      "text/plain": [
       "[1] 1"
      ]
     },
     "metadata": {},
     "output_type": "display_data"
    }
   ],
   "source": [
    "3%%2"
   ]
  },
  {
   "cell_type": "code",
   "execution_count": 4,
   "id": "da877197",
   "metadata": {
    "vscode": {
     "languageId": "r"
    }
   },
   "outputs": [
    {
     "data": {
      "text/html": [
       "9"
      ],
      "text/latex": [
       "9"
      ],
      "text/markdown": [
       "9"
      ],
      "text/plain": [
       "[1] 9"
      ]
     },
     "metadata": {},
     "output_type": "display_data"
    }
   ],
   "source": [
    "3^2"
   ]
  },
  {
   "cell_type": "code",
   "execution_count": 7,
   "id": "7549f179",
   "metadata": {
    "vscode": {
     "languageId": "r"
    }
   },
   "outputs": [
    {
     "data": {
      "text/html": [
       "'Here we go again'"
      ],
      "text/latex": [
       "'Here we go again'"
      ],
      "text/markdown": [
       "'Here we go again'"
      ],
      "text/plain": [
       "[1] \"Here we go again\""
      ]
     },
     "metadata": {},
     "output_type": "display_data"
    }
   ],
   "source": [
    "paste(\"Here we go\", \"again\")"
   ]
  },
  {
   "cell_type": "code",
   "execution_count": 12,
   "id": "2f39a9f7",
   "metadata": {
    "vscode": {
     "languageId": "r"
    }
   },
   "outputs": [
    {
     "data": {
      "text/html": [
       "'look_here'"
      ],
      "text/latex": [
       "'look\\_here'"
      ],
      "text/markdown": [
       "'look_here'"
      ],
      "text/plain": [
       "[1] \"look_here\""
      ]
     },
     "metadata": {},
     "output_type": "display_data"
    }
   ],
   "source": [
    "paste(\"look\", \"here\", sep=\"_\")"
   ]
  },
  {
   "cell_type": "code",
   "execution_count": 13,
   "id": "bdbc7fc7",
   "metadata": {
    "vscode": {
     "languageId": "r"
    }
   },
   "outputs": [
    {
     "name": "stdout",
     "output_type": "stream",
     "text": [
      "[1] \"Let's print some R\"\n"
     ]
    }
   ],
   "source": [
    "print(\"Let's print some R\")"
   ]
  },
  {
   "cell_type": "code",
   "execution_count": null,
   "id": "099b2ecb",
   "metadata": {
    "vscode": {
     "languageId": "r"
    }
   },
   "outputs": [
    {
     "name": "stdout",
     "output_type": "stream",
     "text": [
      "[1] Let's print some R\n"
     ]
    }
   ],
   "source": [
    "print(\"Let's print some R\", quote = FALSE)"
   ]
  },
  {
   "cell_type": "code",
   "execution_count": null,
   "id": "ce7a9f2c",
   "metadata": {
    "vscode": {
     "languageId": "r"
    }
   },
   "outputs": [],
   "source": []
  },
  {
   "cell_type": "code",
   "execution_count": 18,
   "id": "6985dab2",
   "metadata": {
    "vscode": {
     "languageId": "r"
    }
   },
   "outputs": [
    {
     "data": {
      "text/plain": [
       "[1] Let's print some R"
      ]
     },
     "metadata": {},
     "output_type": "display_data"
    }
   ],
   "source": [
    "noquote(\"Let's print some R\")"
   ]
  },
  {
   "cell_type": "code",
   "execution_count": 20,
   "id": "d5a69144",
   "metadata": {
    "vscode": {
     "languageId": "r"
    }
   },
   "outputs": [
    {
     "name": "stdout",
     "output_type": "stream",
     "text": [
      "[1] \"R here!\"\n"
     ]
    }
   ],
   "source": [
    "introduction <- \"R here!\"\n",
    "\n",
    "print(introduction)"
   ]
  },
  {
   "cell_type": "code",
   "execution_count": 22,
   "id": "310306e1",
   "metadata": {
    "vscode": {
     "languageId": "r"
    }
   },
   "outputs": [
    {
     "data": {
      "text/plain": [
       "[1] R is here again"
      ]
     },
     "metadata": {},
     "output_type": "display_data"
    }
   ],
   "source": [
    "introduction <- \"R is here again\"\n",
    "\n",
    "noquote(introduction)"
   ]
  },
  {
   "cell_type": "code",
   "execution_count": 26,
   "id": "aae3637f",
   "metadata": {
    "vscode": {
     "languageId": "r"
    }
   },
   "outputs": [
    {
     "name": "stdout",
     "output_type": "stream",
     "text": [
      "There are 72  people in the meeting"
     ]
    }
   ],
   "source": [
    "men <- 32\n",
    "women <- 40\n",
    "\n",
    "Total <- men + women\n",
    "\n",
    "cat(\"There are\", Total, \" people in the meeting\")"
   ]
  },
  {
   "cell_type": "code",
   "execution_count": 27,
   "id": "c7115e52",
   "metadata": {
    "vscode": {
     "languageId": "r"
    }
   },
   "outputs": [
    {
     "data": {
      "text/html": [
       "FALSE"
      ],
      "text/latex": [
       "FALSE"
      ],
      "text/markdown": [
       "FALSE"
      ],
      "text/plain": [
       "[1] FALSE"
      ]
     },
     "metadata": {},
     "output_type": "display_data"
    }
   ],
   "source": [
    "\"meme\" == \"memo\""
   ]
  },
  {
   "cell_type": "code",
   "execution_count": 34,
   "id": "2f09b10c",
   "metadata": {
    "vscode": {
     "languageId": "r"
    }
   },
   "outputs": [
    {
     "name": "stdout",
     "output_type": "stream",
     "text": [
      "[1] 6\n"
     ]
    }
   ],
   "source": [
    "cats <- 2\n",
    "dogs <- 4\n",
    "\n",
    "pets <- cats + dogs\n",
    "\n",
    "print(pets)"
   ]
  },
  {
   "cell_type": "code",
   "execution_count": 35,
   "id": "bddcc8cc",
   "metadata": {
    "vscode": {
     "languageId": "r"
    }
   },
   "outputs": [
    {
     "name": "stdout",
     "output_type": "stream",
     "text": [
      "We have 6 pets: 2 cats and 4 dogs"
     ]
    }
   ],
   "source": [
    "cat(\"We have\", pets, \"pets:\", cats, \"cats and\", dogs, \"dogs\")"
   ]
  },
  {
   "cell_type": "code",
   "execution_count": 40,
   "id": "5ad59b1d",
   "metadata": {
    "vscode": {
     "languageId": "r"
    }
   },
   "outputs": [
    {
     "name": "stdout",
     "output_type": "stream",
     "text": [
      "Area of the object is 64 and perimeter is 32"
     ]
    }
   ],
   "source": [
    "length_of_side <- 8\n",
    "\n",
    "area <- length_of_side^2\n",
    "\n",
    "perimeter <- length_of_side * 4\n",
    "\n",
    "cat(\"Area of the object is\", area, \"and perimeter is\", perimeter)"
   ]
  },
  {
   "cell_type": "code",
   "execution_count": 41,
   "id": "4b86c768",
   "metadata": {
    "vscode": {
     "languageId": "r"
    }
   },
   "outputs": [
    {
     "name": "stdout",
     "output_type": "stream",
     "text": [
      "[1] 1 2 3 4\n"
     ]
    }
   ],
   "source": [
    "v1 <- c(1, 2, 3, 4)\n",
    "\n",
    "print(v1)"
   ]
  },
  {
   "cell_type": "code",
   "execution_count": 44,
   "id": "013bba8c",
   "metadata": {
    "vscode": {
     "languageId": "r"
    }
   },
   "outputs": [
    {
     "name": "stdout",
     "output_type": "stream",
     "text": [
      "[1] \"This\" \"is\"   \"me\"  \n"
     ]
    }
   ],
   "source": [
    "v2 <- c(\"This\", \"is\", \"me\")\n",
    "print(v2)"
   ]
  },
  {
   "cell_type": "code",
   "execution_count": 45,
   "id": "ec6b8bda",
   "metadata": {
    "vscode": {
     "languageId": "r"
    }
   },
   "outputs": [
    {
     "name": "stdout",
     "output_type": "stream",
     "text": [
      "[1] \"TRUE\"  \"FALSE\" \"TRUE\"  \"FALSE\"\n"
     ]
    }
   ],
   "source": [
    "#Mixed data types\n",
    "\n",
    "v4  <-  c(TRUE, FALSE, TRUE, \"FALSE\")\n",
    "print(v4)"
   ]
  },
  {
   "cell_type": "code",
   "execution_count": 46,
   "id": "e1a066d2",
   "metadata": {
    "vscode": {
     "languageId": "r"
    }
   },
   "outputs": [
    {
     "name": "stdout",
     "output_type": "stream",
     "text": [
      " [1]  1  2  3  4  5  6  7  8  9 10\n"
     ]
    }
   ],
   "source": [
    "seql <- 1:10\n",
    "\n",
    "print(seql)"
   ]
  },
  {
   "cell_type": "code",
   "execution_count": 48,
   "id": "8228dd41",
   "metadata": {
    "vscode": {
     "languageId": "r"
    }
   },
   "outputs": [
    {
     "name": "stdout",
     "output_type": "stream",
     "text": [
      " [1]  5  4  3  2  1  0 -1 -2 -3 -4 -5\n"
     ]
    }
   ],
   "source": [
    "seql2 <- 5:-5\n",
    "\n",
    "print(seql2)"
   ]
  },
  {
   "cell_type": "code",
   "execution_count": 1,
   "id": "a3d38901",
   "metadata": {
    "vscode": {
     "languageId": "r"
    }
   },
   "outputs": [
    {
     "data": {
      "text/html": [
       "<style>\n",
       ".list-inline {list-style: none; margin:0; padding: 0}\n",
       ".list-inline>li {display: inline-block}\n",
       ".list-inline>li:not(:last-child)::after {content: \"\\00b7\"; padding: 0 .5ex}\n",
       "</style>\n",
       "<ol class=list-inline><li>1</li><li>2</li><li>3</li><li>4</li><li>5</li><li>6</li><li>7</li><li>8</li><li>9</li><li>10</li></ol>\n"
      ],
      "text/latex": [
       "\\begin{enumerate*}\n",
       "\\item 1\n",
       "\\item 2\n",
       "\\item 3\n",
       "\\item 4\n",
       "\\item 5\n",
       "\\item 6\n",
       "\\item 7\n",
       "\\item 8\n",
       "\\item 9\n",
       "\\item 10\n",
       "\\end{enumerate*}\n"
      ],
      "text/markdown": [
       "1. 1\n",
       "2. 2\n",
       "3. 3\n",
       "4. 4\n",
       "5. 5\n",
       "6. 6\n",
       "7. 7\n",
       "8. 8\n",
       "9. 9\n",
       "10. 10\n",
       "\n",
       "\n"
      ],
      "text/plain": [
       " [1]  1  2  3  4  5  6  7  8  9 10"
      ]
     },
     "metadata": {},
     "output_type": "display_data"
    }
   ],
   "source": [
    "seq(10)"
   ]
  },
  {
   "cell_type": "code",
   "execution_count": 3,
   "id": "cd5110b4",
   "metadata": {
    "vscode": {
     "languageId": "r"
    }
   },
   "outputs": [
    {
     "data": {
      "text/html": [
       "<style>\n",
       ".list-inline {list-style: none; margin:0; padding: 0}\n",
       ".list-inline>li {display: inline-block}\n",
       ".list-inline>li:not(:last-child)::after {content: \"\\00b7\"; padding: 0 .5ex}\n",
       "</style>\n",
       "<ol class=list-inline><li>1</li><li>3</li><li>5</li><li>7</li><li>9</li></ol>\n"
      ],
      "text/latex": [
       "\\begin{enumerate*}\n",
       "\\item 1\n",
       "\\item 3\n",
       "\\item 5\n",
       "\\item 7\n",
       "\\item 9\n",
       "\\end{enumerate*}\n"
      ],
      "text/markdown": [
       "1. 1\n",
       "2. 3\n",
       "3. 5\n",
       "4. 7\n",
       "5. 9\n",
       "\n",
       "\n"
      ],
      "text/plain": [
       "[1] 1 3 5 7 9"
      ]
     },
     "metadata": {},
     "output_type": "display_data"
    }
   ],
   "source": [
    "seq(1,10,2)"
   ]
  },
  {
   "cell_type": "code",
   "execution_count": 5,
   "id": "7ecc0e38",
   "metadata": {
    "vscode": {
     "languageId": "r"
    }
   },
   "outputs": [
    {
     "data": {
      "text/html": [
       "<style>\n",
       ".list-inline {list-style: none; margin:0; padding: 0}\n",
       ".list-inline>li {display: inline-block}\n",
       ".list-inline>li:not(:last-child)::after {content: \"\\00b7\"; padding: 0 .5ex}\n",
       "</style>\n",
       "<ol class=list-inline><li>1</li><li>1.47368421052632</li><li>1.94736842105263</li><li>2.42105263157895</li><li>2.89473684210526</li><li>3.36842105263158</li><li>3.84210526315789</li><li>4.31578947368421</li><li>4.78947368421053</li><li>5.26315789473684</li><li>5.73684210526316</li><li>6.21052631578947</li><li>6.68421052631579</li><li>7.15789473684211</li><li>7.63157894736842</li><li>8.10526315789474</li><li>8.57894736842105</li><li>9.05263157894737</li><li>9.52631578947368</li><li>10</li></ol>\n"
      ],
      "text/latex": [
       "\\begin{enumerate*}\n",
       "\\item 1\n",
       "\\item 1.47368421052632\n",
       "\\item 1.94736842105263\n",
       "\\item 2.42105263157895\n",
       "\\item 2.89473684210526\n",
       "\\item 3.36842105263158\n",
       "\\item 3.84210526315789\n",
       "\\item 4.31578947368421\n",
       "\\item 4.78947368421053\n",
       "\\item 5.26315789473684\n",
       "\\item 5.73684210526316\n",
       "\\item 6.21052631578947\n",
       "\\item 6.68421052631579\n",
       "\\item 7.15789473684211\n",
       "\\item 7.63157894736842\n",
       "\\item 8.10526315789474\n",
       "\\item 8.57894736842105\n",
       "\\item 9.05263157894737\n",
       "\\item 9.52631578947368\n",
       "\\item 10\n",
       "\\end{enumerate*}\n"
      ],
      "text/markdown": [
       "1. 1\n",
       "2. 1.47368421052632\n",
       "3. 1.94736842105263\n",
       "4. 2.42105263157895\n",
       "5. 2.89473684210526\n",
       "6. 3.36842105263158\n",
       "7. 3.84210526315789\n",
       "8. 4.31578947368421\n",
       "9. 4.78947368421053\n",
       "10. 5.26315789473684\n",
       "11. 5.73684210526316\n",
       "12. 6.21052631578947\n",
       "13. 6.68421052631579\n",
       "14. 7.15789473684211\n",
       "15. 7.63157894736842\n",
       "16. 8.10526315789474\n",
       "17. 8.57894736842105\n",
       "18. 9.05263157894737\n",
       "19. 9.52631578947368\n",
       "20. 10\n",
       "\n",
       "\n"
      ],
      "text/plain": [
       " [1]  1.000000  1.473684  1.947368  2.421053  2.894737  3.368421  3.842105\n",
       " [8]  4.315789  4.789474  5.263158  5.736842  6.210526  6.684211  7.157895\n",
       "[15]  7.631579  8.105263  8.578947  9.052632  9.526316 10.000000"
      ]
     },
     "metadata": {},
     "output_type": "display_data"
    }
   ],
   "source": [
    "seq(1, 10, length = 20)"
   ]
  },
  {
   "cell_type": "code",
   "execution_count": 7,
   "id": "44a6225d",
   "metadata": {
    "vscode": {
     "languageId": "r"
    }
   },
   "outputs": [
    {
     "data": {
      "text/html": [
       "<style>\n",
       ".list-inline {list-style: none; margin:0; padding: 0}\n",
       ".list-inline>li {display: inline-block}\n",
       ".list-inline>li:not(:last-child)::after {content: \"\\00b7\"; padding: 0 .5ex}\n",
       "</style>\n",
       "<ol class=list-inline><li>1</li><li>1.5</li><li>2</li><li>2.5</li><li>3</li><li>3.5</li><li>4</li><li>4.5</li><li>5</li><li>5.5</li><li>6</li><li>6.5</li><li>7</li><li>7.5</li><li>8</li><li>8.5</li><li>9</li><li>9.5</li><li>10</li></ol>\n"
      ],
      "text/latex": [
       "\\begin{enumerate*}\n",
       "\\item 1\n",
       "\\item 1.5\n",
       "\\item 2\n",
       "\\item 2.5\n",
       "\\item 3\n",
       "\\item 3.5\n",
       "\\item 4\n",
       "\\item 4.5\n",
       "\\item 5\n",
       "\\item 5.5\n",
       "\\item 6\n",
       "\\item 6.5\n",
       "\\item 7\n",
       "\\item 7.5\n",
       "\\item 8\n",
       "\\item 8.5\n",
       "\\item 9\n",
       "\\item 9.5\n",
       "\\item 10\n",
       "\\end{enumerate*}\n"
      ],
      "text/markdown": [
       "1. 1\n",
       "2. 1.5\n",
       "3. 2\n",
       "4. 2.5\n",
       "5. 3\n",
       "6. 3.5\n",
       "7. 4\n",
       "8. 4.5\n",
       "9. 5\n",
       "10. 5.5\n",
       "11. 6\n",
       "12. 6.5\n",
       "13. 7\n",
       "14. 7.5\n",
       "15. 8\n",
       "16. 8.5\n",
       "17. 9\n",
       "18. 9.5\n",
       "19. 10\n",
       "\n",
       "\n"
      ],
      "text/plain": [
       " [1]  1.0  1.5  2.0  2.5  3.0  3.5  4.0  4.5  5.0  5.5  6.0  6.5  7.0  7.5  8.0\n",
       "[16]  8.5  9.0  9.5 10.0"
      ]
     },
     "metadata": {},
     "output_type": "display_data"
    }
   ],
   "source": [
    "seq(from = 1, to=10, by=0.5)"
   ]
  },
  {
   "cell_type": "code",
   "execution_count": 9,
   "id": "27757cfc",
   "metadata": {
    "vscode": {
     "languageId": "r"
    }
   },
   "outputs": [
    {
     "data": {
      "text/html": [
       "<style>\n",
       ".list-inline {list-style: none; margin:0; padding: 0}\n",
       ".list-inline>li {display: inline-block}\n",
       ".list-inline>li:not(:last-child)::after {content: \"\\00b7\"; padding: 0 .5ex}\n",
       "</style>\n",
       "<ol class=list-inline><li>3</li><li>17</li><li>10</li><li>1</li><li>18</li><li>5</li><li>15</li><li>20</li><li>6</li><li>16</li><li>11</li><li>19</li><li>9</li><li>4</li><li>12</li><li>14</li><li>13</li><li>8</li><li>2</li><li>7</li></ol>\n"
      ],
      "text/latex": [
       "\\begin{enumerate*}\n",
       "\\item 3\n",
       "\\item 17\n",
       "\\item 10\n",
       "\\item 1\n",
       "\\item 18\n",
       "\\item 5\n",
       "\\item 15\n",
       "\\item 20\n",
       "\\item 6\n",
       "\\item 16\n",
       "\\item 11\n",
       "\\item 19\n",
       "\\item 9\n",
       "\\item 4\n",
       "\\item 12\n",
       "\\item 14\n",
       "\\item 13\n",
       "\\item 8\n",
       "\\item 2\n",
       "\\item 7\n",
       "\\end{enumerate*}\n"
      ],
      "text/markdown": [
       "1. 3\n",
       "2. 17\n",
       "3. 10\n",
       "4. 1\n",
       "5. 18\n",
       "6. 5\n",
       "7. 15\n",
       "8. 20\n",
       "9. 6\n",
       "10. 16\n",
       "11. 11\n",
       "12. 19\n",
       "13. 9\n",
       "14. 4\n",
       "15. 12\n",
       "16. 14\n",
       "17. 13\n",
       "18. 8\n",
       "19. 2\n",
       "20. 7\n",
       "\n",
       "\n"
      ],
      "text/plain": [
       " [1]  3 17 10  1 18  5 15 20  6 16 11 19  9  4 12 14 13  8  2  7"
      ]
     },
     "metadata": {},
     "output_type": "display_data"
    }
   ],
   "source": [
    "sample(1:20)"
   ]
  },
  {
   "cell_type": "code",
   "execution_count": 10,
   "id": "9ad032d7",
   "metadata": {
    "vscode": {
     "languageId": "r"
    }
   },
   "outputs": [
    {
     "data": {
      "text/plain": [
       "\n",
       "20 30 40 \n",
       " 4  1  2 "
      ]
     },
     "metadata": {},
     "output_type": "display_data"
    }
   ],
   "source": [
    "table(c(20, 30, 40, 20, 20, 20, 40))"
   ]
  },
  {
   "cell_type": "code",
   "execution_count": 11,
   "id": "86b39aa3",
   "metadata": {
    "vscode": {
     "languageId": "r"
    }
   },
   "outputs": [
    {
     "data": {
      "text/html": [
       "<style>\n",
       ".list-inline {list-style: none; margin:0; padding: 0}\n",
       ".list-inline>li {display: inline-block}\n",
       ".list-inline>li:not(:last-child)::after {content: \"\\00b7\"; padding: 0 .5ex}\n",
       "</style>\n",
       "<ol class=list-inline><li>1</li><li>4</li><li>9</li><li>16</li><li>25</li><li>36</li><li>49</li><li>64</li><li>81</li><li>100</li><li>121</li><li>144</li></ol>\n"
      ],
      "text/latex": [
       "\\begin{enumerate*}\n",
       "\\item 1\n",
       "\\item 4\n",
       "\\item 9\n",
       "\\item 16\n",
       "\\item 25\n",
       "\\item 36\n",
       "\\item 49\n",
       "\\item 64\n",
       "\\item 81\n",
       "\\item 100\n",
       "\\item 121\n",
       "\\item 144\n",
       "\\end{enumerate*}\n"
      ],
      "text/markdown": [
       "1. 1\n",
       "2. 4\n",
       "3. 9\n",
       "4. 16\n",
       "5. 25\n",
       "6. 36\n",
       "7. 49\n",
       "8. 64\n",
       "9. 81\n",
       "10. 100\n",
       "11. 121\n",
       "12. 144\n",
       "\n",
       "\n"
      ],
      "text/plain": [
       " [1]   1   4   9  16  25  36  49  64  81 100 121 144"
      ]
     },
     "metadata": {},
     "output_type": "display_data"
    }
   ],
   "source": [
    "numbers <- c(1,2,3,4,5,6,7,8,9,10,11,12) # nolint: commas_linter.\n",
    "\n",
    "numbers^2"
   ]
  },
  {
   "cell_type": "code",
   "execution_count": 12,
   "id": "eb01210d",
   "metadata": {
    "vscode": {
     "languageId": "r"
    }
   },
   "outputs": [
    {
     "data": {
      "text/html": [
       "<style>\n",
       ".list-inline {list-style: none; margin:0; padding: 0}\n",
       ".list-inline>li {display: inline-block}\n",
       ".list-inline>li:not(:last-child)::after {content: \"\\00b7\"; padding: 0 .5ex}\n",
       "</style>\n",
       "<ol class=list-inline><li>1</li><li>2</li><li>3</li><li>9</li><li>10</li></ol>\n"
      ],
      "text/latex": [
       "\\begin{enumerate*}\n",
       "\\item 1\n",
       "\\item 2\n",
       "\\item 3\n",
       "\\item 9\n",
       "\\item 10\n",
       "\\end{enumerate*}\n"
      ],
      "text/markdown": [
       "1. 1\n",
       "2. 2\n",
       "3. 3\n",
       "4. 9\n",
       "5. 10\n",
       "\n",
       "\n"
      ],
      "text/plain": [
       "[1]  1  2  3  9 10"
      ]
     },
     "metadata": {},
     "output_type": "display_data"
    }
   ],
   "source": [
    "nums  <- c(1,2,3,4,5,6,7,8,9,10)\n",
    "\n",
    "nums[(nums < 4) | (nums > 8)]"
   ]
  },
  {
   "cell_type": "code",
   "execution_count": 1,
   "id": "1e8f7b87",
   "metadata": {
    "vscode": {
     "languageId": "r"
    }
   },
   "outputs": [
    {
     "data": {
      "text/html": [
       "<table class=\"dataframe\">\n",
       "<caption>A matrix: 3 × 4 of type int</caption>\n",
       "<tbody>\n",
       "\t<tr><td>1</td><td>4</td><td>7</td><td>10</td></tr>\n",
       "\t<tr><td>2</td><td>5</td><td>8</td><td>11</td></tr>\n",
       "\t<tr><td>3</td><td>6</td><td>9</td><td>12</td></tr>\n",
       "</tbody>\n",
       "</table>\n"
      ],
      "text/latex": [
       "A matrix: 3 × 4 of type int\n",
       "\\begin{tabular}{llll}\n",
       "\t 1 & 4 & 7 & 10\\\\\n",
       "\t 2 & 5 & 8 & 11\\\\\n",
       "\t 3 & 6 & 9 & 12\\\\\n",
       "\\end{tabular}\n"
      ],
      "text/markdown": [
       "\n",
       "A matrix: 3 × 4 of type int\n",
       "\n",
       "| 1 | 4 | 7 | 10 |\n",
       "| 2 | 5 | 8 | 11 |\n",
       "| 3 | 6 | 9 | 12 |\n",
       "\n"
      ],
      "text/plain": [
       "     [,1] [,2] [,3] [,4]\n",
       "[1,] 1    4    7    10  \n",
       "[2,] 2    5    8    11  \n",
       "[3,] 3    6    9    12  "
      ]
     },
     "metadata": {},
     "output_type": "display_data"
    }
   ],
   "source": [
    "nums <- matrix(1:12, 3, 4)\n",
    "nums"
   ]
  },
  {
   "cell_type": "code",
   "execution_count": 2,
   "id": "8b95f28e",
   "metadata": {
    "vscode": {
     "languageId": "r"
    }
   },
   "outputs": [
    {
     "data": {
      "text/html": [
       "<table class=\"dataframe\">\n",
       "<caption>A matrix: 2 × 2 of type int</caption>\n",
       "<tbody>\n",
       "\t<tr><td>7</td><td>10</td></tr>\n",
       "\t<tr><td>8</td><td>11</td></tr>\n",
       "</tbody>\n",
       "</table>\n"
      ],
      "text/latex": [
       "A matrix: 2 × 2 of type int\n",
       "\\begin{tabular}{ll}\n",
       "\t 7 & 10\\\\\n",
       "\t 8 & 11\\\\\n",
       "\\end{tabular}\n"
      ],
      "text/markdown": [
       "\n",
       "A matrix: 2 × 2 of type int\n",
       "\n",
       "| 7 | 10 |\n",
       "| 8 | 11 |\n",
       "\n"
      ],
      "text/plain": [
       "     [,1] [,2]\n",
       "[1,] 7    10  \n",
       "[2,] 8    11  "
      ]
     },
     "metadata": {},
     "output_type": "display_data"
    }
   ],
   "source": [
    "nums[-3, -1:-2]"
   ]
  },
  {
   "cell_type": "code",
   "execution_count": 8,
   "id": "1a9c5b47",
   "metadata": {
    "vscode": {
     "languageId": "r"
    }
   },
   "outputs": [
    {
     "data": {
      "text/html": [
       "<table class=\"dataframe\">\n",
       "<caption>A matrix: 4 × 5 of type int</caption>\n",
       "<tbody>\n",
       "\t<tr><td>21</td><td>25</td><td>29</td><td>33</td><td>37</td></tr>\n",
       "\t<tr><td>22</td><td>26</td><td>30</td><td>34</td><td>38</td></tr>\n",
       "\t<tr><td>23</td><td>27</td><td>31</td><td>35</td><td>39</td></tr>\n",
       "\t<tr><td>24</td><td>28</td><td>32</td><td>36</td><td>40</td></tr>\n",
       "</tbody>\n",
       "</table>\n"
      ],
      "text/latex": [
       "A matrix: 4 × 5 of type int\n",
       "\\begin{tabular}{lllll}\n",
       "\t 21 & 25 & 29 & 33 & 37\\\\\n",
       "\t 22 & 26 & 30 & 34 & 38\\\\\n",
       "\t 23 & 27 & 31 & 35 & 39\\\\\n",
       "\t 24 & 28 & 32 & 36 & 40\\\\\n",
       "\\end{tabular}\n"
      ],
      "text/markdown": [
       "\n",
       "A matrix: 4 × 5 of type int\n",
       "\n",
       "| 21 | 25 | 29 | 33 | 37 |\n",
       "| 22 | 26 | 30 | 34 | 38 |\n",
       "| 23 | 27 | 31 | 35 | 39 |\n",
       "| 24 | 28 | 32 | 36 | 40 |\n",
       "\n"
      ],
      "text/plain": [
       "     [,1] [,2] [,3] [,4] [,5]\n",
       "[1,] 21   25   29   33   37  \n",
       "[2,] 22   26   30   34   38  \n",
       "[3,] 23   27   31   35   39  \n",
       "[4,] 24   28   32   36   40  "
      ]
     },
     "metadata": {},
     "output_type": "display_data"
    }
   ],
   "source": [
    "states  <- matrix(21:40, nrow=4)\n",
    "\n",
    "states"
   ]
  },
  {
   "cell_type": "code",
   "execution_count": 9,
   "id": "74d7a8c9",
   "metadata": {
    "vscode": {
     "languageId": "r"
    }
   },
   "outputs": [
    {
     "data": {
      "text/html": [
       "<table class=\"dataframe\">\n",
       "<caption>A matrix: 4 × 5 of type int</caption>\n",
       "<thead>\n",
       "\t<tr><th scope=col>Mon</th><th scope=col>Tue</th><th scope=col>Wed</th><th scope=col>Thur</th><th scope=col>Fri</th></tr>\n",
       "</thead>\n",
       "<tbody>\n",
       "\t<tr><td>21</td><td>25</td><td>29</td><td>33</td><td>37</td></tr>\n",
       "\t<tr><td>22</td><td>26</td><td>30</td><td>34</td><td>38</td></tr>\n",
       "\t<tr><td>23</td><td>27</td><td>31</td><td>35</td><td>39</td></tr>\n",
       "\t<tr><td>24</td><td>28</td><td>32</td><td>36</td><td>40</td></tr>\n",
       "</tbody>\n",
       "</table>\n"
      ],
      "text/latex": [
       "A matrix: 4 × 5 of type int\n",
       "\\begin{tabular}{lllll}\n",
       " Mon & Tue & Wed & Thur & Fri\\\\\n",
       "\\hline\n",
       "\t 21 & 25 & 29 & 33 & 37\\\\\n",
       "\t 22 & 26 & 30 & 34 & 38\\\\\n",
       "\t 23 & 27 & 31 & 35 & 39\\\\\n",
       "\t 24 & 28 & 32 & 36 & 40\\\\\n",
       "\\end{tabular}\n"
      ],
      "text/markdown": [
       "\n",
       "A matrix: 4 × 5 of type int\n",
       "\n",
       "| Mon | Tue | Wed | Thur | Fri |\n",
       "|---|---|---|---|---|\n",
       "| 21 | 25 | 29 | 33 | 37 |\n",
       "| 22 | 26 | 30 | 34 | 38 |\n",
       "| 23 | 27 | 31 | 35 | 39 |\n",
       "| 24 | 28 | 32 | 36 | 40 |\n",
       "\n"
      ],
      "text/plain": [
       "     Mon Tue Wed Thur Fri\n",
       "[1,] 21  25  29  33   37 \n",
       "[2,] 22  26  30  34   38 \n",
       "[3,] 23  27  31  35   39 \n",
       "[4,] 24  28  32  36   40 "
      ]
     },
     "metadata": {},
     "output_type": "display_data"
    }
   ],
   "source": [
    "colnames(states) <- c(\"Mon\", \"Tue\", \"Wed\", \"Thur\", \"Fri\")\n",
    "\n",
    "states"
   ]
  },
  {
   "cell_type": "code",
   "execution_count": 10,
   "id": "ee3e79da",
   "metadata": {
    "vscode": {
     "languageId": "r"
    }
   },
   "outputs": [
    {
     "data": {
      "text/html": [
       "<table class=\"dataframe\">\n",
       "<caption>A matrix: 4 × 5 of type int</caption>\n",
       "<thead>\n",
       "\t<tr><th></th><th scope=col>Mon</th><th scope=col>Tue</th><th scope=col>Wed</th><th scope=col>Thur</th><th scope=col>Fri</th></tr>\n",
       "</thead>\n",
       "<tbody>\n",
       "\t<tr><th scope=row>California</th><td>21</td><td>25</td><td>29</td><td>33</td><td>37</td></tr>\n",
       "\t<tr><th scope=row>Texas</th><td>22</td><td>26</td><td>30</td><td>34</td><td>38</td></tr>\n",
       "\t<tr><th scope=row>Florida</th><td>23</td><td>27</td><td>31</td><td>35</td><td>39</td></tr>\n",
       "\t<tr><th scope=row>New York</th><td>24</td><td>28</td><td>32</td><td>36</td><td>40</td></tr>\n",
       "</tbody>\n",
       "</table>\n"
      ],
      "text/latex": [
       "A matrix: 4 × 5 of type int\n",
       "\\begin{tabular}{r|lllll}\n",
       "  & Mon & Tue & Wed & Thur & Fri\\\\\n",
       "\\hline\n",
       "\tCalifornia & 21 & 25 & 29 & 33 & 37\\\\\n",
       "\tTexas & 22 & 26 & 30 & 34 & 38\\\\\n",
       "\tFlorida & 23 & 27 & 31 & 35 & 39\\\\\n",
       "\tNew York & 24 & 28 & 32 & 36 & 40\\\\\n",
       "\\end{tabular}\n"
      ],
      "text/markdown": [
       "\n",
       "A matrix: 4 × 5 of type int\n",
       "\n",
       "| <!--/--> | Mon | Tue | Wed | Thur | Fri |\n",
       "|---|---|---|---|---|---|\n",
       "| California | 21 | 25 | 29 | 33 | 37 |\n",
       "| Texas | 22 | 26 | 30 | 34 | 38 |\n",
       "| Florida | 23 | 27 | 31 | 35 | 39 |\n",
       "| New York | 24 | 28 | 32 | 36 | 40 |\n",
       "\n"
      ],
      "text/plain": [
       "           Mon Tue Wed Thur Fri\n",
       "California 21  25  29  33   37 \n",
       "Texas      22  26  30  34   38 \n",
       "Florida    23  27  31  35   39 \n",
       "New York   24  28  32  36   40 "
      ]
     },
     "metadata": {},
     "output_type": "display_data"
    }
   ],
   "source": [
    "rownames(states) <- c(\"California\", \"Texas\", \"Florida\", \"New York\")\n",
    "\n",
    "states"
   ]
  },
  {
   "cell_type": "code",
   "execution_count": null,
   "id": "30652ee1",
   "metadata": {
    "vscode": {
     "languageId": "r"
    }
   },
   "outputs": [],
   "source": []
  }
 ],
 "metadata": {
  "kernelspec": {
   "display_name": "R",
   "language": "R",
   "name": "ir"
  },
  "language_info": {
   "codemirror_mode": "r",
   "file_extension": ".r",
   "mimetype": "text/x-r-source",
   "name": "R",
   "pygments_lexer": "r",
   "version": "4.5.0"
  }
 },
 "nbformat": 4,
 "nbformat_minor": 5
}
