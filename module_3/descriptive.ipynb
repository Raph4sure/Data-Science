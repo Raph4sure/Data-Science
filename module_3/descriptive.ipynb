{
 "cells": [
  {
   "cell_type": "code",
   "execution_count": null,
   "metadata": {},
   "outputs": [],
   "source": [
    "import scipy.stats as stats\n",
    "import matplotlib.pyplot as plt\n",
    "import seaborn as sns\n",
    "import numpy as np\n",
    "import pandas as pd\n",
    "from scipy.stats import pearsonr as ps\n",
    "from scipy.stats import spearmanr as sm\n"
   ]
  },
  {
   "cell_type": "code",
   "execution_count": 2,
   "metadata": {},
   "outputs": [],
   "source": [
    "data = [5, 8, 10, 12, 15]"
   ]
  },
  {
   "cell_type": "code",
   "execution_count": 5,
   "metadata": {},
   "outputs": [
    {
     "name": "stdout",
     "output_type": "stream",
     "text": [
      "Skewness of the dataset: 0.0\n"
     ]
    }
   ],
   "source": [
    "skewness = stats.skew(data)\n",
    "\n",
    "print(\"Skewness of the dataset:\", skewness)"
   ]
  },
  {
   "cell_type": "code",
   "execution_count": 7,
   "metadata": {},
   "outputs": [
    {
     "data": {
      "image/png": "[encoded data removed]",
      "text/plain": [
       "<Figure size 640x480 with 1 Axes>"
      ]
     },
     "metadata": {},
     "output_type": "display_data"
    }
   ],
   "source": [
    "\n",
    "\n",
    "data = [5, 7, 8, 12, 13, 14, 18, 21, 23]\n",
    "sns.boxplot(data=data)\n",
    "plt.title(\"Boxplot Showing Outliers\")\n",
    "plt.show()\n"
   ]
  },
  {
   "cell_type": "code",
   "execution_count": 12,
   "metadata": {},
   "outputs": [
    {
     "name": "stdout",
     "output_type": "stream",
     "text": [
      "Q1 = 9.0\n",
      "Q2 (Median) = 13.5\n",
      "Q3 = 20.25\n",
      "IQR = 11.25\n"
     ]
    }
   ],
   "source": [
    "\n",
    "\n",
    "data = [5, 7, 8, 12, 13, 14, 18, 21, 23, 100]\n",
    "\n",
    "Q1 = np.percentile(data, 25)\n",
    "Q2 = np.percentile(data, 50)  # median\n",
    "Q3 = np.percentile(data, 75)\n",
    "IQR = Q3 - Q1\n",
    "\n",
    "print(f\"Q1 = {Q1}\")\n",
    "print(f\"Q2 (Median) = {Q2}\")\n",
    "print(f\"Q3 = {Q3}\")\n",
    "print(f\"IQR = {IQR}\")\n"
   ]
  },
  {
   "cell_type": "code",
   "execution_count": 13,
   "metadata": {},
   "outputs": [
    {
     "name": "stdout",
     "output_type": "stream",
     "text": [
      "Lower Bound = -7.875\n",
      "Upper Bound = 37.125\n"
     ]
    }
   ],
   "source": [
    "lower_bound = Q1 - 1.5 * IQR\n",
    "upper_bound = Q3 + 1.5 * IQR\n",
    "\n",
    "print(f\"Lower Bound = {lower_bound}\")\n",
    "print(f\"Upper Bound = {upper_bound}\")\n"
   ]
  },
  {
   "cell_type": "code",
   "execution_count": 14,
   "metadata": {},
   "outputs": [
    {
     "data": {
      "image/png": "[encoded data removed]",
      "text/plain": [
       "<Figure size 640x480 with 1 Axes>"
      ]
     },
     "metadata": {},
     "output_type": "display_data"
    }
   ],
   "source": [
    "sns.boxplot(data=data)\n",
    "plt.title(\"Boxplot with Outlier\")\n",
    "plt.show()"
   ]
  },
  {
   "cell_type": "code",
   "execution_count": 3,
   "metadata": {},
   "outputs": [
    {
     "data": {
      "text/html": [
       "<div>\n",
       "<style scoped>\n",
       "    .dataframe tbody tr th:only-of-type {\n",
       "        vertical-align: middle;\n",
       "    }\n",
       "\n",
       "    .dataframe tbody tr th {\n",
       "        vertical-align: top;\n",
       "    }\n",
       "\n",
       "    .dataframe thead th {\n",
       "        text-align: right;\n",
       "    }\n",
       "</style>\n",
       "<table border=\"1\" class=\"dataframe\">\n",
       "  <thead>\n",
       "    <tr style=\"text-align: right;\">\n",
       "      <th></th>\n",
       "      <th>species</th>\n",
       "      <th>island</th>\n",
       "      <th>bill_length_mm</th>\n",
       "      <th>bill_depth_mm</th>\n",
       "      <th>flipper_length_mm</th>\n",
       "      <th>body_mass_g</th>\n",
       "      <th>sex</th>\n",
       "    </tr>\n",
       "  </thead>\n",
       "  <tbody>\n",
       "    <tr>\n",
       "      <th>0</th>\n",
       "      <td>Adelie</td>\n",
       "      <td>Torgersen</td>\n",
       "      <td>39.1</td>\n",
       "      <td>18.7</td>\n",
       "      <td>181.0</td>\n",
       "      <td>3750.0</td>\n",
       "      <td>Male</td>\n",
       "    </tr>\n",
       "    <tr>\n",
       "      <th>1</th>\n",
       "      <td>Adelie</td>\n",
       "      <td>Torgersen</td>\n",
       "      <td>39.5</td>\n",
       "      <td>17.4</td>\n",
       "      <td>186.0</td>\n",
       "      <td>3800.0</td>\n",
       "      <td>Female</td>\n",
       "    </tr>\n",
       "    <tr>\n",
       "      <th>2</th>\n",
       "      <td>Adelie</td>\n",
       "      <td>Torgersen</td>\n",
       "      <td>40.3</td>\n",
       "      <td>18.0</td>\n",
       "      <td>195.0</td>\n",
       "      <td>3250.0</td>\n",
       "      <td>Female</td>\n",
       "    </tr>\n",
       "    <tr>\n",
       "      <th>3</th>\n",
       "      <td>Adelie</td>\n",
       "      <td>Torgersen</td>\n",
       "      <td>NaN</td>\n",
       "      <td>NaN</td>\n",
       "      <td>NaN</td>\n",
       "      <td>NaN</td>\n",
       "      <td>NaN</td>\n",
       "    </tr>\n",
       "    <tr>\n",
       "      <th>4</th>\n",
       "      <td>Adelie</td>\n",
       "      <td>Torgersen</td>\n",
       "      <td>36.7</td>\n",
       "      <td>19.3</td>\n",
       "      <td>193.0</td>\n",
       "      <td>3450.0</td>\n",
       "      <td>Female</td>\n",
       "    </tr>\n",
       "  </tbody>\n",
       "</table>\n",
       "</div>"
      ],
      "text/plain": [
       "  species     island  bill_length_mm  bill_depth_mm  flipper_length_mm  \\\n",
       "0  Adelie  Torgersen            39.1           18.7              181.0   \n",
       "1  Adelie  Torgersen            39.5           17.4              186.0   \n",
       "2  Adelie  Torgersen            40.3           18.0              195.0   \n",
       "3  Adelie  Torgersen             NaN            NaN                NaN   \n",
       "4  Adelie  Torgersen            36.7           19.3              193.0   \n",
       "\n",
       "   body_mass_g     sex  \n",
       "0       3750.0    Male  \n",
       "1       3800.0  Female  \n",
       "2       3250.0  Female  \n",
       "3          NaN     NaN  \n",
       "4       3450.0  Female  "
      ]
     },
     "execution_count": 3,
     "metadata": {},
     "output_type": "execute_result"
    }
   ],
   "source": [
    "# Load sample data\n",
    "data = sns.load_dataset('penguins')  # Seaborn's built-in dataset\n",
    "\n",
    "# Display the first few rows\n",
    "data.head()"
   ]
  },
  {
   "cell_type": "code",
   "execution_count": 4,
   "metadata": {},
   "outputs": [
    {
     "name": "stdout",
     "output_type": "stream",
     "text": [
      "<class 'pandas.core.frame.DataFrame'>\n",
      "RangeIndex: 344 entries, 0 to 343\n",
      "Data columns (total 7 columns):\n",
      " #   Column             Non-Null Count  Dtype  \n",
      "---  ------             --------------  -----  \n",
      " 0   species            344 non-null    object \n",
      " 1   island             344 non-null    object \n",
      " 2   bill_length_mm     342 non-null    float64\n",
      " 3   bill_depth_mm      342 non-null    float64\n",
      " 4   flipper_length_mm  342 non-null    float64\n",
      " 5   body_mass_g        342 non-null    float64\n",
      " 6   sex                333 non-null    object \n",
      "dtypes: float64(4), object(3)\n",
      "memory usage: 18.9+ KB\n"
     ]
    }
   ],
   "source": [
    "data.info()"
   ]
  },
  {
   "cell_type": "code",
   "execution_count": 7,
   "metadata": {},
   "outputs": [
    {
     "name": "stdout",
     "output_type": "stream",
     "text": [
      "Sum = 1437000.0 \n",
      " Count = 344\n",
      "Mean of body_mass_g = 4177.325581395349\n"
     ]
    }
   ],
   "source": [
    "sum_of_body_mass_g = data['body_mass_g'].sum()\n",
    "\n",
    "count_of_body_mass_g = len(data[\"body_mass_g\"])\n",
    "\n",
    "print (f\"Sum = {sum_of_body_mass_g } \\n Count = {count_of_body_mass_g}\")\n",
    "\n",
    "Mean = sum_of_body_mass_g/count_of_body_mass_g\n",
    "\n",
    "print(f\"Mean of body_mass_g = {Mean}\")"
   ]
  },
  {
   "cell_type": "code",
   "execution_count": 12,
   "metadata": {},
   "outputs": [
    {
     "name": "stdout",
     "output_type": "stream",
     "text": [
      "Mean of numerical columns is: \n",
      "bill_length_mm         43.921930\n",
      "bill_depth_mm          17.151170\n",
      "flipper_length_mm     200.915205\n",
      "body_mass_g          4201.754386\n",
      "dtype: float64\n"
     ]
    }
   ],
   "source": [
    "# Calculating mean of the numerical columns only\n",
    "\n",
    "mean_values = data.mean(numeric_only=True)\n",
    "\n",
    "print(f'Mean of numerical columns is: \\n{mean_values}')"
   ]
  },
  {
   "cell_type": "code",
   "execution_count": 13,
   "metadata": {},
   "outputs": [
    {
     "name": "stdout",
     "output_type": "stream",
     "text": [
      "Median of numerical columns is: \n",
      "bill_length_mm         44.45\n",
      "bill_depth_mm          17.30\n",
      "flipper_length_mm     197.00\n",
      "body_mass_g          4050.00\n",
      "dtype: float64\n"
     ]
    }
   ],
   "source": [
    "# Calculating median of the numerical columns only\n",
    "\n",
    "median_values = data.median(numeric_only=True)\n",
    "\n",
    "print(f'Median of numerical columns is: \\n{median_values}')"
   ]
  },
  {
   "cell_type": "code",
   "execution_count": 14,
   "metadata": {},
   "outputs": [
    {
     "name": "stdout",
     "output_type": "stream",
     "text": [
      "Mode of numerical columns is: \n",
      "  species  island  bill_length_mm  bill_depth_mm  flipper_length_mm  \\\n",
      "0  Adelie  Biscoe            41.1           17.0              190.0   \n",
      "\n",
      "   body_mass_g   sex  \n",
      "0       3800.0  Male  \n"
     ]
    }
   ],
   "source": [
    "# Calculating mode of all columns\n",
    "\n",
    "mode_values = data.mode()\n",
    "\n",
    "print(f'Mode of numerical columns is: \\n{mode_values}')"
   ]
  },
  {
   "cell_type": "code",
   "execution_count": 20,
   "metadata": {},
   "outputs": [
    {
     "data": {
      "text/plain": [
       "sex\n",
       "Male      168\n",
       "Female    165\n",
       "Name: count, dtype: int64"
      ]
     },
     "execution_count": 20,
     "metadata": {},
     "output_type": "execute_result"
    }
   ],
   "source": [
    "data['sex'].value_counts()"
   ]
  },
  {
   "cell_type": "code",
   "execution_count": null,
   "metadata": {},
   "outputs": [
    {
     "data": {
      "text/html": [
       "<div>\n",
       "<style scoped>\n",
       "    .dataframe tbody tr th:only-of-type {\n",
       "        vertical-align: middle;\n",
       "    }\n",
       "\n",
       "    .dataframe tbody tr th {\n",
       "        vertical-align: top;\n",
       "    }\n",
       "\n",
       "    .dataframe thead th {\n",
       "        text-align: right;\n",
       "    }\n",
       "</style>\n",
       "<table border=\"1\" class=\"dataframe\">\n",
       "  <thead>\n",
       "    <tr style=\"text-align: right;\">\n",
       "      <th></th>\n",
       "      <th>bill_length_mm</th>\n",
       "      <th>bill_depth_mm</th>\n",
       "      <th>flipper_length_mm</th>\n",
       "      <th>body_mass_g</th>\n",
       "    </tr>\n",
       "  </thead>\n",
       "  <tbody>\n",
       "    <tr>\n",
       "      <th>count</th>\n",
       "      <td>342.000000</td>\n",
       "      <td>342.000000</td>\n",
       "      <td>342.000000</td>\n",
       "      <td>342.000000</td>\n",
       "    </tr>\n",
       "    <tr>\n",
       "      <th>mean</th>\n",
       "      <td>43.921930</td>\n",
       "      <td>17.151170</td>\n",
       "      <td>200.915205</td>\n",
       "      <td>4201.754386</td>\n",
       "    </tr>\n",
       "    <tr>\n",
       "      <th>std</th>\n",
       "      <td>5.459584</td>\n",
       "      <td>1.974793</td>\n",
       "      <td>14.061714</td>\n",
       "      <td>801.954536</td>\n",
       "    </tr>\n",
       "    <tr>\n",
       "      <th>min</th>\n",
       "      <td>32.100000</td>\n",
       "      <td>13.100000</td>\n",
       "      <td>172.000000</td>\n",
       "      <td>2700.000000</td>\n",
       "    </tr>\n",
       "    <tr>\n",
       "      <th>25%</th>\n",
       "      <td>39.225000</td>\n",
       "      <td>15.600000</td>\n",
       "      <td>190.000000</td>\n",
       "      <td>3550.000000</td>\n",
       "    </tr>\n",
       "    <tr>\n",
       "      <th>50%</th>\n",
       "      <td>44.450000</td>\n",
       "      <td>17.300000</td>\n",
       "      <td>197.000000</td>\n",
       "      <td>4050.000000</td>\n",
       "    </tr>\n",
       "    <tr>\n",
       "      <th>75%</th>\n",
       "      <td>48.500000</td>\n",
       "      <td>18.700000</td>\n",
       "      <td>213.000000</td>\n",
       "      <td>4750.000000</td>\n",
       "    </tr>\n",
       "    <tr>\n",
       "      <th>max</th>\n",
       "      <td>59.600000</td>\n",
       "      <td>21.500000</td>\n",
       "      <td>231.000000</td>\n",
       "      <td>6300.000000</td>\n",
       "    </tr>\n",
       "  </tbody>\n",
       "</table>\n",
       "</div>"
      ],
      "text/plain": [
       "       bill_length_mm  bill_depth_mm  flipper_length_mm  body_mass_g\n",
       "count      342.000000     342.000000         342.000000   342.000000\n",
       "mean        43.921930      17.151170         200.915205  4201.754386\n",
       "std          5.459584       1.974793          14.061714   801.954536\n",
       "min         32.100000      13.100000         172.000000  2700.000000\n",
       "25%         39.225000      15.600000         190.000000  3550.000000\n",
       "50%         44.450000      17.300000         197.000000  4050.000000\n",
       "75%         48.500000      18.700000         213.000000  4750.000000\n",
       "max         59.600000      21.500000         231.000000  6300.000000"
      ]
     },
     "execution_count": 21,
     "metadata": {},
     "output_type": "execute_result"
    }
   ],
   "source": [
    "# showing quick summary on all numerical columns\n",
    "\n",
    "data.describe()"
   ]
  },
  {
   "cell_type": "code",
   "execution_count": 24,
   "metadata": {},
   "outputs": [
    {
     "name": "stdout",
     "output_type": "stream",
     "text": [
      "Range is: \n",
      "bill_length_mm         27.5\n",
      "bill_depth_mm           8.4\n",
      "flipper_length_mm      59.0\n",
      "body_mass_g          3600.0\n",
      "dtype: float64\n"
     ]
    }
   ],
   "source": [
    "# calculte range\n",
    "\n",
    "data_range = data.max(numeric_only=True) - data.min(numeric_only = True)\n",
    "\n",
    "print(f\"Range is: \\n{data_range}\")"
   ]
  },
  {
   "cell_type": "code",
   "execution_count": 27,
   "metadata": {},
   "outputs": [
    {
     "name": "stdout",
     "output_type": "stream",
     "text": [
      "Interquatile Range (IQR) is: \n",
      "bill_length_mm          9.275\n",
      "bill_depth_mm           3.100\n",
      "flipper_length_mm      23.000\n",
      "body_mass_g          1200.000\n",
      "dtype: float64\n"
     ]
    }
   ],
   "source": [
    "# calculating IQR for numerical columns only\n",
    "\n",
    "numerical_data = data.select_dtypes(include='number')\n",
    "\n",
    "Q1 = numerical_data.quantile(0.25)\n",
    "Q3 = numerical_data.quantile(0.75)\n",
    "\n",
    "IQR = Q3 - Q1\n",
    "\n",
    "print(f'Interquatile Range (IQR) is: \\n{IQR}')"
   ]
  },
  {
   "cell_type": "code",
   "execution_count": 39,
   "metadata": {},
   "outputs": [
    {
     "name": "stdout",
     "output_type": "stream",
     "text": [
      "Covariance: 5.0\n"
     ]
    }
   ],
   "source": [
    "##Covariance\n",
    "\n",
    "# Example data\n",
    "x = [1, 2, 3, 4, 5]\n",
    "y = [2, 4, 6, 8, 10]\n",
    "\n",
    "# Calculate covariance\n",
    "covariance = np.cov(x,y)[0,1]  # Extract the covariance value\n",
    "print(\"Covariance:\", covariance)"
   ]
  },
  {
   "cell_type": "code",
   "execution_count": null,
   "metadata": {},
   "outputs": [],
   "source": [
    " ## Covariance Matrix=[Var(x)Cov(y,x)Cov(x,y)Var(y)]"
   ]
  },
  {
   "cell_type": "code",
   "execution_count": 30,
   "metadata": {},
   "outputs": [
    {
     "name": "stdout",
     "output_type": "stream",
     "text": [
      "[[ 2.5  5. ]\n",
      " [ 5.  10. ]]\n"
     ]
    }
   ],
   "source": [
    "print(np.cov(x, y))"
   ]
  },
  {
   "cell_type": "code",
   "execution_count": 49,
   "metadata": {},
   "outputs": [
    {
     "name": "stdout",
     "output_type": "stream",
     "text": [
      "var_of_x = 2.0\n"
     ]
    }
   ],
   "source": [
    "var_of_x = np.var(x)\n",
    "\n",
    "print(f'var_of_x = {var_of_x}')"
   ]
  },
  {
   "cell_type": "code",
   "execution_count": 57,
   "metadata": {},
   "outputs": [
    {
     "name": "stdout",
     "output_type": "stream",
     "text": [
      "Pearson Correlation Coefficient: 1.0\n"
     ]
    }
   ],
   "source": [
    "## Pearson Correlation Coefficient\n",
    "\n",
    "#pearson uses a different library called \"scipy\"\n",
    "from scipy.stats import pearsonr as ps\n",
    "\n",
    "# Example data\n",
    "x = [1, 2, 3, 4, 5]\n",
    "y = [2, 4, 6, 8, 10]\n",
    "\n",
    "# Calculate Pearson correlation\n",
    "pearson_corr, _ = ps(x, y)\n",
    "print(\"Pearson Correlation Coefficient:\", pearson_corr)\n"
   ]
  },
  {
   "cell_type": "code",
   "execution_count": 58,
   "metadata": {},
   "outputs": [
    {
     "name": "stdout",
     "output_type": "stream",
     "text": [
      "Spearman Correlation Coefficient: 0.9999999999999999\n"
     ]
    }
   ],
   "source": [
    "## Spearman Rank Correlation\n",
    "\n",
    "from scipy.stats import spearmanr as sm\n",
    "\n",
    "# Example data\n",
    "x = [1, 2, 3, 4, 5]\n",
    "y = [2, 4, 6, 8, 10]\n",
    "\n",
    "# Calculate Spearman correlation\n",
    "spearman_corr, _ = sm(x, y)\n",
    "print(\"Spearman Correlation Coefficient:\", spearman_corr)"
   ]
  },
  {
   "cell_type": "code",
   "execution_count": 2,
   "metadata": {},
   "outputs": [
    {
     "data": {
      "text/html": [
       "<div>\n",
       "<style scoped>\n",
       "    .dataframe tbody tr th:only-of-type {\n",
       "        vertical-align: middle;\n",
       "    }\n",
       "\n",
       "    .dataframe tbody tr th {\n",
       "        vertical-align: top;\n",
       "    }\n",
       "\n",
       "    .dataframe thead th {\n",
       "        text-align: right;\n",
       "    }\n",
       "</style>\n",
       "<table border=\"1\" class=\"dataframe\">\n",
       "  <thead>\n",
       "    <tr style=\"text-align: right;\">\n",
       "      <th></th>\n",
       "      <th>Patient_ID</th>\n",
       "      <th>Disease</th>\n",
       "      <th>Test_Result</th>\n",
       "    </tr>\n",
       "  </thead>\n",
       "  <tbody>\n",
       "    <tr>\n",
       "      <th>0</th>\n",
       "      <td>1</td>\n",
       "      <td>Yes</td>\n",
       "      <td>Positive</td>\n",
       "    </tr>\n",
       "    <tr>\n",
       "      <th>1</th>\n",
       "      <td>2</td>\n",
       "      <td>No</td>\n",
       "      <td>Positive</td>\n",
       "    </tr>\n",
       "    <tr>\n",
       "      <th>2</th>\n",
       "      <td>3</td>\n",
       "      <td>Yes</td>\n",
       "      <td>Positive</td>\n",
       "    </tr>\n",
       "    <tr>\n",
       "      <th>3</th>\n",
       "      <td>4</td>\n",
       "      <td>No</td>\n",
       "      <td>Negative</td>\n",
       "    </tr>\n",
       "    <tr>\n",
       "      <th>4</th>\n",
       "      <td>5</td>\n",
       "      <td>No</td>\n",
       "      <td>Positive</td>\n",
       "    </tr>\n",
       "    <tr>\n",
       "      <th>5</th>\n",
       "      <td>6</td>\n",
       "      <td>Yes</td>\n",
       "      <td>Positive</td>\n",
       "    </tr>\n",
       "    <tr>\n",
       "      <th>6</th>\n",
       "      <td>7</td>\n",
       "      <td>No</td>\n",
       "      <td>Negative</td>\n",
       "    </tr>\n",
       "    <tr>\n",
       "      <th>7</th>\n",
       "      <td>8</td>\n",
       "      <td>Yes</td>\n",
       "      <td>Positive</td>\n",
       "    </tr>\n",
       "    <tr>\n",
       "      <th>8</th>\n",
       "      <td>9</td>\n",
       "      <td>No</td>\n",
       "      <td>Positive</td>\n",
       "    </tr>\n",
       "    <tr>\n",
       "      <th>9</th>\n",
       "      <td>10</td>\n",
       "      <td>No</td>\n",
       "      <td>Negative</td>\n",
       "    </tr>\n",
       "  </tbody>\n",
       "</table>\n",
       "</div>"
      ],
      "text/plain": [
       "   Patient_ID Disease Test_Result\n",
       "0           1     Yes    Positive\n",
       "1           2      No    Positive\n",
       "2           3     Yes    Positive\n",
       "3           4      No    Negative\n",
       "4           5      No    Positive\n",
       "5           6     Yes    Positive\n",
       "6           7      No    Negative\n",
       "7           8     Yes    Positive\n",
       "8           9      No    Positive\n",
       "9          10      No    Negative"
      ]
     },
     "execution_count": 2,
     "metadata": {},
     "output_type": "execute_result"
    }
   ],
   "source": [
    "# Probability\n",
    "#import the required library\n",
    "import pandas as pd\n",
    "\n",
    "# Create the dataset\n",
    "data = {\n",
    "    \"Patient_ID\": [1, 2, 3, 4, 5, 6, 7, 8, 9, 10],\n",
    "    \"Disease\": [\"Yes\", \"No\", \"Yes\", \"No\", \"No\", \"Yes\", \"No\", \"Yes\", \"No\", \"No\"],\n",
    "    \"Test_Result\": [\"Positive\", \"Positive\", \"Positive\", \"Negative\", \"Positive\", \"Positive\", \"Negative\", \"Positive\", \"Positive\", \"Negative\"]\n",
    "}\n",
    "df = pd.DataFrame(data)\n",
    "df\n"
   ]
  },
  {
   "cell_type": "code",
   "execution_count": 3,
   "metadata": {},
   "outputs": [
    {
     "name": "stdout",
     "output_type": "stream",
     "text": [
      "<class 'pandas.core.frame.DataFrame'>\n",
      "RangeIndex: 10 entries, 0 to 9\n",
      "Data columns (total 3 columns):\n",
      " #   Column       Non-Null Count  Dtype \n",
      "---  ------       --------------  ----- \n",
      " 0   Patient_ID   10 non-null     int64 \n",
      " 1   Disease      10 non-null     object\n",
      " 2   Test_Result  10 non-null     object\n",
      "dtypes: int64(1), object(2)\n",
      "memory usage: 372.0+ bytes\n"
     ]
    }
   ],
   "source": [
    "df.info()"
   ]
  },
  {
   "cell_type": "code",
   "execution_count": 5,
   "metadata": {},
   "outputs": [
    {
     "data": {
      "text/plain": [
       "10"
      ]
     },
     "execution_count": 5,
     "metadata": {},
     "output_type": "execute_result"
    }
   ],
   "source": [
    "# Total no of Patients\n",
    "\n",
    "total_patients = df.shape[0]\n",
    "\n",
    "total_patients"
   ]
  },
  {
   "cell_type": "code",
   "execution_count": null,
   "metadata": {},
   "outputs": [
    {
     "data": {
      "text/plain": [
       "0.4"
      ]
     },
     "execution_count": 24,
     "metadata": {},
     "output_type": "execute_result"
    }
   ],
   "source": [
    "# probability of_having_disease \n",
    "\n",
    "p_of_having_disease = len(df[df['Disease'] == 'Yes']) / total_patients\n",
    "\n",
    "p_of_having_disease "
   ]
  },
  {
   "cell_type": "code",
   "execution_count": null,
   "metadata": {},
   "outputs": [
    {
     "name": "stdout",
     "output_type": "stream",
     "text": [
      "P(Disease∣Positive Test):  0.57\n"
     ]
    }
   ],
   "source": [
    "P_Disease_Positive_Test = len( df[(df['Disease'] == 'Yes') & (df['Test_Result'] == 'Positive')]) / len(df[df['Test_Result'] == 'Positive'])\n",
    "\n",
    "print(f'P(Disease∣Positive Test): {P_Disease_Positive_Test: .2f}')"
   ]
  },
  {
   "cell_type": "code",
   "execution_count": null,
   "metadata": {},
   "outputs": [
    {
     "name": "stdout",
     "output_type": "stream",
     "text": [
      "P(Disease ∩ Positive Test): 0.06\n",
      "P(Disease) * P(Positive Test): 0.28\n",
      "Disease and Positive Test are NOT independent.\n"
     ]
    }
   ],
   "source": [
    "# 3. Check independence: P(Disease ∩ Positive Test) vs P(Disease) * P(Positive Test)\n",
    "P_positive = len(df[df[\"Test_Result\"] == \"Positive\"]) / total_patients\n",
    "P_disease_and_positive = P_Disease_Positive_Test / total_patients\n",
    "P_independence_check = p_of_having_disease * P_positive\n",
    "\n",
    "print(f\"P(Disease ∩ Positive Test): {P_disease_and_positive:.2f}\")\n",
    "print(f\"P(Disease) * P(Positive Test): {P_independence_check:.2f}\")\n",
    "\n",
    "if abs(P_disease_and_positive - P_independence_check) < 1e-5:\n",
    "    print(\"Disease and Positive Test are independent.\")\n",
    "else:\n",
    "    print(\"Disease and Positive Test are NOT independent.\")"
   ]
  }
 ],
 "metadata": {
  "kernelspec": {
   "display_name": "Python (global_venv)",
   "language": "python",
   "name": "global_venv"
  },
  "language_info": {
   "codemirror_mode": {
    "name": "ipython",
    "version": 3
   },
   "file_extension": ".py",
   "mimetype": "text/x-python",
   "name": "python",
   "nbconvert_exporter": "python",
   "pygments_lexer": "ipython3",
   "version": "3.12.3"
  }
 },
 "nbformat": 4,
 "nbformat_minor": 2
}
