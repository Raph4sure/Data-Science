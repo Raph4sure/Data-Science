{
 "cells": [
  {
   "cell_type": "code",
   "execution_count": null,
   "metadata": {},
   "outputs": [],
   "source": [
    "\"\"\"\n",
    "SQLite Database\n",
    "How to connect with database in python\n",
    "import db module\n",
    "import sqlite3\n",
    "\n",
    "Establish connection between the python program and the db\n",
    "con = sqlite3.connect(name_of_database)\n",
    "\n",
    "To execute mysql query and hold result, a cursor is required\n",
    "cursor = con.cursor()\n",
    "\n",
    "Execute mysql query with the help of cursor object\n",
    "cursor.execute(query)\n",
    "\n",
    "cursor.executemany()\n",
    "\n",
    "Fetch the result from the cursor object in case of select query\n",
    "cursor.fetchall()\n",
    "\n",
    "cursor.fetchone()\n",
    "\n",
    "cursor.fetchmany(n)\n",
    "\n",
    "Commit or rollback changes as required\n",
    "con.commit()\n",
    "\n",
    "con.rollback()\n",
    "\n",
    "Close resources and disconnect database\n",
    "cursor.close()\n",
    "\n",
    "con.close()\n",
    "\n",
    "\"\"\"\n"
   ]
  }
 ],
 "metadata": {
  "kernelspec": {
   "display_name": "Python (global_venv)",
   "language": "python",
   "name": "global_venv"
  },
  "language_info": {
   "codemirror_mode": {
    "name": "ipython",
    "version": 3
   },
   "file_extension": ".py",
   "mimetype": "text/x-python",
   "name": "python",
   "nbconvert_exporter": "python",
   "pygments_lexer": "ipython3",
   "version": "3.12.3"
  }
 },
 "nbformat": 4,
 "nbformat_minor": 2
}
