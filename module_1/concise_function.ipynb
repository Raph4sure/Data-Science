{
 "cells": [
  {
   "cell_type": "code",
   "execution_count": 7,
   "metadata": {},
   "outputs": [
    {
     "name": "stdout",
     "output_type": "stream",
     "text": [
      "[34, 56, 98, 66, 54, 12]\n"
     ]
    }
   ],
   "source": [
    "nums = [34, 56, 77, 98, 66, 54, 33, 31, 12, 237]\n",
    "evens = [num for num in nums if num%2 == 0]\n",
    "print(evens)\n"
   ]
  },
  {
   "cell_type": "code",
   "execution_count": 27,
   "metadata": {},
   "outputs": [
    {
     "name": "stdout",
     "output_type": "stream",
     "text": [
      "['P', 'Y', 'T', 'H', 'O', 'N']\n"
     ]
    }
   ],
   "source": [
    "x = \"PYTHON\"\n",
    "\n",
    "lst = []\n",
    "\n",
    "for y in x:\n",
    "    lst.append(y)\n",
    "print(lst)"
   ]
  },
  {
   "cell_type": "code",
   "execution_count": 22,
   "metadata": {},
   "outputs": [
    {
     "data": {
      "text/plain": [
       "['P', 'Y', 'T', 'H', 'O', 'N']"
      ]
     },
     "execution_count": 22,
     "metadata": {},
     "output_type": "execute_result"
    }
   ],
   "source": [
    "lst = [a for a in 'PYTHON']\n",
    "\n",
    "lst"
   ]
  },
  {
   "cell_type": "code",
   "execution_count": 16,
   "metadata": {},
   "outputs": [
    {
     "name": "stdout",
     "output_type": "stream",
     "text": [
      "[34, 56, 98, 66, 54, 12, 34, 56, 98, 66, 12, 34, 56, 77, 98, 66, 55, 33, 31, 12, 237]\n"
     ]
    }
   ],
   "source": [
    "nums = [34, 56, 77, 98, 66, 55, 33, 31, 12, 237]\n",
    "\n",
    "\n",
    "\n",
    "\n",
    "##Solution\n",
    "for num in nums:\n",
    "    # if num%2 == 0:\n",
    "    evens.append(num)\n",
    "print(evens)"
   ]
  },
  {
   "cell_type": "code",
   "execution_count": null,
   "metadata": {},
   "outputs": [
    {
     "data": {
      "text/plain": [
       "[1, 3, 5, 7, 9, 11, 13, 15, 17, 19]"
      ]
     },
     "execution_count": 32,
     "metadata": {},
     "output_type": "execute_result"
    }
   ],
   "source": [
    "lst = [i**2 for i in range(1,20) if i%2 != 0]\n",
    "lst"
   ]
  },
  {
   "cell_type": "code",
   "execution_count": 50,
   "metadata": {},
   "outputs": [
    {
     "name": "stdout",
     "output_type": "stream",
     "text": [
      "[1, 9, 25, 49, 81, 121, 169, 225, 289, 361]\n"
     ]
    }
   ],
   "source": [
    "i = []\n",
    "\n",
    "for x in range(1, 20):\n",
    "    if x % 2 != 0:\n",
    "        i.append(x**2)\n",
    "        \n",
    "print(i)\n",
    "\n",
    "\n",
    "\n",
    "        \n",
    "    "
   ]
  },
  {
   "cell_type": "code",
   "execution_count": 52,
   "metadata": {},
   "outputs": [
    {
     "name": "stdout",
     "output_type": "stream",
     "text": [
      "['B', 'H', 'D']\n"
     ]
    }
   ],
   "source": [
    "m = []\n",
    "\n",
    "heros = ['Black Widow', 'Hawkeye', 'Doctor Strange']\n",
    "\n",
    "for word in heros:\n",
    "    m.append(word[0])\n",
    "print(m)"
   ]
  },
  {
   "cell_type": "code",
   "execution_count": 58,
   "metadata": {},
   "outputs": [
    {
     "data": {
      "text/plain": [
       "[['THE', 3],\n",
       " ['QUICK', 5],\n",
       " ['FOX', 3],\n",
       " ['AND', 3],\n",
       " ['THE', 3],\n",
       " ['SLOW', 4],\n",
       " ['TORTOISE', 8],\n",
       " ['WERE', 4],\n",
       " ['FRIENDS', 7],\n",
       " ['A', 1],\n",
       " ['LONG', 4],\n",
       " ['TIME', 4],\n",
       " ['AGO', 3]]"
      ]
     },
     "execution_count": 58,
     "metadata": {},
     "output_type": "execute_result"
    }
   ],
   "source": [
    "string = 'The quick fox and the slow tortoise were friends a long time ago'\n",
    "\n",
    "capitalize = [[cap.upper(), len(cap)] for cap in string.split(\" \")]\n",
    "\n",
    "capitalize"
   ]
  },
  {
   "cell_type": "code",
   "execution_count": 63,
   "metadata": {},
   "outputs": [
    {
     "data": {
      "text/plain": [
       "15"
      ]
     },
     "execution_count": 63,
     "metadata": {},
     "output_type": "execute_result"
    }
   ],
   "source": [
    "greater = lambda a,b : a if a > b else b\n",
    "\n",
    "greater(15,7)"
   ]
  },
  {
   "cell_type": "code",
   "execution_count": 73,
   "metadata": {},
   "outputs": [
    {
     "data": {
      "text/plain": [
       "['P', 'Y', 'T', 'H', 'O', 'N']"
      ]
     },
     "execution_count": 73,
     "metadata": {},
     "output_type": "execute_result"
    }
   ],
   "source": [
    "def create_list_from_string(input_string):\n",
    "    lst = []\n",
    "    for char in input_string:\n",
    "        lst.append(char)\n",
    "    return lst\n",
    "\n",
    "# Example usage\n",
    "lst = create_list_from_string('PYTHON')\n",
    "\n",
    "lst"
   ]
  },
  {
   "cell_type": "code",
   "execution_count": 77,
   "metadata": {},
   "outputs": [
    {
     "name": "stdout",
     "output_type": "stream",
     "text": [
      "Name: Ann, Room_number: 1, Marks: 98\n"
     ]
    }
   ],
   "source": [
    "'''\n",
    "'self' is an instance variable that should be used in the constructor or method\n",
    "Remember the constructor is automatically called when you create an instance of an object\n",
    "'''\n",
    "\n",
    "class Student:\n",
    "    def __init__(self, name, rno, marks):  #a constructor with the instance variables\n",
    "        self.name = name\n",
    "        self.rno = rno\n",
    "        self.marks = marks\n",
    "    \n",
    "    #creating a method\n",
    "    def display(self):\n",
    "        #print(self.name, self.rno, self.marks) OR\n",
    "        \n",
    "        print(f'Name: {self.name}, Room_number: {self.rno}, Marks: {self.marks}')\n",
    "\n",
    "#testing\n",
    "student1 = Student('Ann', 1, 98)\n",
    "student1.display()\n",
    "        "
   ]
  },
  {
   "cell_type": "code",
   "execution_count": 82,
   "metadata": {},
   "outputs": [],
   "source": [
    "class Boy:\n",
    "    def __init__(self, name, age):\n",
    "        \n",
    "        #public data member\n",
    "        self.name=name\n",
    "        \n",
    "        #private data member\n",
    "        self.__age = age\n",
    "    \n",
    "    def display(self):\n",
    "        print(self.name)"
   ]
  },
  {
   "cell_type": "code",
   "execution_count": 83,
   "metadata": {},
   "outputs": [
    {
     "name": "stdout",
     "output_type": "stream",
     "text": [
      "Sam\n"
     ]
    }
   ],
   "source": [
    "object_name = Boy('Sam', 298)\n",
    "\n",
    "object_name.display()\n",
    "\n",
    "#this prints just the name, the age is privately secured and therefore not accessible\n"
   ]
  },
  {
   "cell_type": "code",
   "execution_count": 1,
   "metadata": {},
   "outputs": [
    {
     "data": {
      "text/plain": [
       "('Jane', 21)"
      ]
     },
     "execution_count": 1,
     "metadata": {},
     "output_type": "execute_result"
    }
   ],
   "source": [
    "class Student:\n",
    "    \n",
    "    age = 50\n",
    "    marks = 100\n",
    "    \n",
    "    def __init__(self, name, rno):\n",
    "        self.name = name\n",
    "        self.rno = rno\n",
    "        \n",
    "    def display(self):\n",
    "        return(self.name, self.rno)\n",
    "    \n",
    "    # @classmethod\n",
    "    def setAge(cls):\n",
    "        return(cls.age)\n",
    "    \n",
    "    # @classmethod\n",
    "    def setMarks(cls):\n",
    "        return(cls.marks)\n",
    "    \n",
    "students = Student(name='Jane', rno=21)\n",
    "\n",
    "students.display()"
   ]
  },
  {
   "cell_type": "code",
   "execution_count": 2,
   "metadata": {},
   "outputs": [
    {
     "data": {
      "text/plain": [
       "('Jane', 21)"
      ]
     },
     "execution_count": 2,
     "metadata": {},
     "output_type": "execute_result"
    }
   ],
   "source": [
    "students.display()"
   ]
  },
  {
   "cell_type": "code",
   "execution_count": 3,
   "metadata": {},
   "outputs": [
    {
     "data": {
      "text/plain": [
       "50"
      ]
     },
     "execution_count": 3,
     "metadata": {},
     "output_type": "execute_result"
    }
   ],
   "source": [
    "students.setAge()"
   ]
  },
  {
   "cell_type": "code",
   "execution_count": 4,
   "metadata": {},
   "outputs": [
    {
     "data": {
      "text/plain": [
       "100"
      ]
     },
     "execution_count": 4,
     "metadata": {},
     "output_type": "execute_result"
    }
   ],
   "source": [
    "students.setMarks()\n"
   ]
  },
  {
   "cell_type": "code",
   "execution_count": 16,
   "metadata": {},
   "outputs": [],
   "source": [
    "# Add expenditure according to category .\n",
    "# Calculate total expenditure.\n",
    "# Calculate per day expenditure and a two months expenditure.\n",
    "\n",
    "class Expenditure:\n",
    "    \n",
    "    def __init__(self,salary,savings):\n",
    "        self.salary = salary\n",
    "        self.savings = savings\n",
    "        self.categories = {}   #intializes a dictionary\n",
    "        self.total_expenditure = 0   #this value will be updated, hence it is intialized by setting it 0\n",
    "    \n",
    "    def category_expenditure(self, category, expenses): #this method takes two parameters\n",
    "        \n",
    "        #first, we check if the category exists and then add the amount entered to the expenditure for that category\n",
    "        if category in self.categories:\n",
    "            self.categories[category] += expenses\n",
    "            # return False\n",
    "        \n",
    "        #if it doesn't it adds the new category and the expense for that category\n",
    "        else:\n",
    "            self.categories[category] = expenses\n",
    "        \n",
    "        #When the conditional statement has been fulfilled, the amount is added to the total_expensiture and it is therefore updated\n",
    "        self.total_expenditure += expenses\n",
    "        \n",
    "        return self.categories, self.total_expenditure\n",
    "    \n",
    "    #remember the total_expensiture is always updated therefore at anytime we have the total expenditure in that variable\n",
    "    def cal_total_expenditure(self):\n",
    "        return self.total_expenditure\n",
    "    \n",
    "    def daily_expenditure(self):\n",
    "        days = 30\n",
    "        return self.total_expenditure/days\n",
    "    \n",
    "    def monthly_expenditure(self, month):\n",
    "        return self.total_expenditure*month"
   ]
  },
  {
   "cell_type": "code",
   "execution_count": null,
   "metadata": {},
   "outputs": [
    {
     "data": {
      "text/plain": [
       "({'food': 1200, 'shoes': 800, 'mouse': 1500, 'fan': 300}, 3800)"
      ]
     },
     "execution_count": 17,
     "metadata": {},
     "output_type": "execute_result"
    }
   ],
   "source": [
    "expenditure_tracker = Expenditure(salary = 5000, savings= 1000)\n",
    "\n",
    "## Let me add some of the expenses I have made\n",
    "\n",
    "expenditure_tracker.category_expenditure('food', 700)\n",
    "expenditure_tracker.category_expenditure('shoes', 800)\n",
    "expenditure_tracker.category_expenditure('mouse', 1500)\n",
    "expenditure_tracker.category_expenditure('food', 500)\n",
    "expenditure_tracker.category_expenditure('fan', 300)"
   ]
  },
  {
   "cell_type": "code",
   "execution_count": 2,
   "metadata": {},
   "outputs": [],
   "source": [
    "class Duck:\n",
    "    def quack(self):\n",
    "        return('Quack')\n",
    "    \n",
    "class Dog:\n",
    "    def quack(self):\n",
    "        return('Woof')\n",
    "\n"
   ]
  },
  {
   "cell_type": "code",
   "execution_count": 3,
   "metadata": {},
   "outputs": [
    {
     "name": "stdout",
     "output_type": "stream",
     "text": [
      "Woof\n",
      "Quack\n"
     ]
    }
   ],
   "source": [
    "#creating the objects\n",
    "\n",
    "duck = Duck()\n",
    "dog = Dog()\n",
    "\n",
    "print(dog.quack())\n",
    "print(duck.quack())"
   ]
  },
  {
   "cell_type": "code",
   "execution_count": 17,
   "metadata": {},
   "outputs": [],
   "source": [
    "class Point:\n",
    "    def __init__(self, x, y):\n",
    "        self.x = x\n",
    "        self.y = y\n",
    "        \n",
    "    \n",
    "    def __add__(self,other):\n",
    "        return Point(self.x+other.x, self.y+other.y)"
   ]
  },
  {
   "cell_type": "code",
   "execution_count": 18,
   "metadata": {},
   "outputs": [
    {
     "name": "stdout",
     "output_type": "stream",
     "text": [
      "<__main__.Point object at 0x7ed6b814fb30>\n"
     ]
    }
   ],
   "source": [
    "#creating two objects with the same blueprint\n",
    "\n",
    "p1 = Point(2,3)\n",
    "p2 = Point(3,4)\n",
    "\n",
    "result = p1 + p2\n",
    "print(result)"
   ]
  },
  {
   "cell_type": "code",
   "execution_count": 19,
   "metadata": {},
   "outputs": [
    {
     "name": "stdout",
     "output_type": "stream",
     "text": [
      "5 7\n"
     ]
    }
   ],
   "source": [
    "print(result.x, result.y)"
   ]
  },
  {
   "cell_type": "code",
   "execution_count": 20,
   "metadata": {},
   "outputs": [],
   "source": [
    "class Car:\n",
    "    def __init__(self):\n",
    "        self.__updateSoftware()\n",
    "        \n",
    "    def drive(self):\n",
    "        print('Driving')\n",
    "        \n",
    "    def __updateSoftware(self):\n",
    "        print('Updating software....')\n"
   ]
  },
  {
   "cell_type": "code",
   "execution_count": 21,
   "metadata": {},
   "outputs": [
    {
     "name": "stdout",
     "output_type": "stream",
     "text": [
      "Updating software....\n",
      "Driving\n"
     ]
    }
   ],
   "source": [
    "myCar = Car()\n",
    "myCar.drive()"
   ]
  }
 ],
 "metadata": {
  "kernelspec": {
   "display_name": "Python (global_venv)",
   "language": "python",
   "name": "global_venv"
  },
  "language_info": {
   "codemirror_mode": {
    "name": "ipython",
    "version": 3
   },
   "file_extension": ".py",
   "mimetype": "text/x-python",
   "name": "python",
   "nbconvert_exporter": "python",
   "pygments_lexer": "ipython3",
   "version": "3.12.3"
  }
 },
 "nbformat": 4,
 "nbformat_minor": 2
}
