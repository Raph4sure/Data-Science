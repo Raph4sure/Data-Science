{
 "cells": [
  {
   "cell_type": "code",
   "execution_count": null,
   "metadata": {},
   "outputs": [],
   "source": [
    "quiz = [ \n",
    "        {\"question\": \"What type of language is Python ?\", \"answer\": \"interpreted\" },\n",
    "        {\"question\": \"What is the immutable sequence type in Python ?\", \"answer\": \"tuple\"},\n",
    "        {\"question\": \"What is the extension of a Python file ?\", \"answer\": \"py\"},\n",
    "        {\"question\": \"Which data type is unordered and contains unique elements ?\", \"answer\": \"set\"},\n",
    "        {\"question\": \"What keyword is used to import modules ?\", \"answer\": \"import\"}\n",
    "        ]\n",
    "\n",
    "# print(quiz)\n",
    "\n",
    "score = 0\n",
    "\n",
    "for each_quiz in quiz:\n",
    "    print(each_quiz[\"question\"])\n",
    "    user_input = input(\"please enter your answer: \").strip().lower()\n",
    "    correct_answer = each_quiz[\"answer\"]\n",
    "\n",
    "    if user_input == correct_answer:\n",
    "        print(\"You're correct \\n\")\n",
    "        score += 1\n",
    "    else:\n",
    "        print(f\"You're wrong, the correct answer is {correct_answer} \\n\")\n",
    "        \n",
    "print(f\"Quiz completed, Your final score is {score}/{len(quiz)}\")\n",
    "\n",
    "\n"
   ]
  },
  {
   "cell_type": "code",
   "execution_count": null,
   "metadata": {},
   "outputs": [],
   "source": [
    "input1 = int(input(\"Enter first no: \"))\n",
    "input2 = int(input(\"Enter second no: \"))\n",
    "\n",
    "def swap_no(num1, num2):\n",
    "    num1, num2 = input1, input2\n",
    "    print(f\"Numbers before swapping is: {num1}, {num2} \\n\")\n",
    "    num1, num2 = input2, input1\n",
    "    print(f\"Numbers after swapping is: {num1}, {num2} \\n\")\n",
    "    \n",
    "swap_no(input1, input2)\n",
    "    "
   ]
  },
  {
   "cell_type": "code",
   "execution_count": 14,
   "metadata": {},
   "outputs": [
    {
     "name": "stdout",
     "output_type": "stream",
     "text": [
      "57 % 2\n",
      "57 % 3\n",
      "57 % 2\n",
      "57 % 3\n",
      "57 does not satisfy any of the given properties.\n"
     ]
    }
   ],
   "source": [
    "def is_prime(num):\n",
    "    # Check if a number is prime.\n",
    "    if num <= 1:\n",
    "        return False\n",
    "    for i in range(2, int(num**0.5) + 1):\n",
    "        print(f'{num} % {i}')\n",
    "        if num % i == 0:\n",
    "            return False\n",
    "    return True\n",
    "\n",
    "def is_armstrong(num):\n",
    "    # Check if a number is an Armstrong number.\n",
    "    num_str = str(num)\n",
    "    num_digits = len(num_str)\n",
    "    \n",
    "    total = sum(int(digit) ** num_digits for digit in num_str)\n",
    "    \n",
    "    if total == num:\n",
    "        return True\n",
    "    return False\n",
    "\n",
    "def is_palindrome(num):\n",
    "    # Check if a number is a palindrome.\n",
    "    if str(num) == str(num)[::-1]:\n",
    "        return True\n",
    "    return False\n",
    "\n",
    "def main():\n",
    "    # Main function to accept user input and check properties.\n",
    "    try:\n",
    "        user_input = int(input(\"Enter an integer: \"))\n",
    "        \n",
    "        if is_prime(user_input):\n",
    "            print(f\"{user_input} is a Prime number.\")\n",
    "        \n",
    "        if is_armstrong(user_input):\n",
    "            print(f\"{user_input} is an Armstrong number.\")\n",
    "        \n",
    "        if is_palindrome(user_input):\n",
    "            print(f\"{user_input} is a Palindrome.\")\n",
    "        \n",
    "        if not (is_prime(user_input) or is_armstrong(user_input) or is_palindrome(user_input)):\n",
    "            print(f\"{user_input} does not satisfy any of the given properties.\")\n",
    "    \n",
    "    except ValueError:\n",
    "        print(\"Error: Please enter a valid integer.\")\n",
    "\n",
    "# Run the program\n",
    "if __name__ == \"__main__\":\n",
    "    main()"
   ]
  },
  {
   "cell_type": "code",
   "execution_count": null,
   "metadata": {},
   "outputs": [
    {
     "name": "stdout",
     "output_type": "stream",
     "text": [
      "The first 20 terms of the Fibonacci sequence are:\n",
      "[0, 1, 1, 2, 3, 5, 8, 13, 21, 34, 55, 89, 144, 233, 377, 610, 987, 1597, 2584, 4181]\n"
     ]
    }
   ],
   "source": [
    "def generate_fibonacci(n):\n",
    "  \n",
    "    if n <= 0:\n",
    "        return \"Error: Please enter a positive integer.\"\n",
    "    \n",
    "    # Initialize the first two terms of the Fibonacci sequence\n",
    "    fibonacci_sequence = [0, 1]\n",
    "    \n",
    "    # Generate the sequence up to n terms\n",
    "    while len(fibonacci_sequence) < n:\n",
    "        next_term = fibonacci_sequence[-1] + fibonacci_sequence[-2]\n",
    "        fibonacci_sequence.append(next_term)\n",
    "    \n",
    "    # Return the first n terms\n",
    "    return fibonacci_sequence[:n]\n",
    "\n",
    "def main():\n",
    "   \n",
    "    try:\n",
    "        # Accept user input\n",
    "        n = int(input(\"Enter the number of terms (n) for the Fibonacci sequence: \"))\n",
    "        \n",
    "        # Generate and display the Fibonacci sequence\n",
    "        result = generate_fibonacci(n)\n",
    "        if isinstance(result, str):  # Check if an error message was returned\n",
    "            print(result)\n",
    "        else:\n",
    "            print(f\"The first {n} terms of the Fibonacci sequence are:\")\n",
    "            print(result)\n",
    "    \n",
    "    except ValueError:\n",
    "        # Handle non-integer input\n",
    "        print(\"Error: Please enter a valid integer.\")\n",
    "\n",
    "# Run the program\n",
    "    main()"
   ]
  },
  {
   "cell_type": "code",
   "execution_count": 76,
   "metadata": {},
   "outputs": [],
   "source": [
    "def is_armstrong(num):\n",
    "    # Check if a number is an Armstrong number.\n",
    "    num_str = str(num)\n",
    "    num_digits = len(num_str)\n",
    "    \n",
    "    total = 0\n",
    "    \n",
    "    for digit in num_str:\n",
    "        \n",
    "        total += int(digit)**num_digits\n",
    "        \n",
    "        \n",
    "    # return(total)\n",
    "        \n",
    "    \n",
    "    if total == num:\n",
    "        # return True\n",
    "        return(\"true\")\n",
    "    # return False\n",
    "    return(\"false\")\n",
    "    \n",
    "    "
   ]
  },
  {
   "cell_type": "code",
   "execution_count": 79,
   "metadata": {},
   "outputs": [
    {
     "data": {
      "text/plain": [
       "'true'"
      ]
     },
     "execution_count": 79,
     "metadata": {},
     "output_type": "execute_result"
    }
   ],
   "source": [
    "is_armstrong(153)\n"
   ]
  },
  {
   "cell_type": "code",
   "execution_count": 57,
   "metadata": {},
   "outputs": [
    {
     "data": {
      "text/plain": [
       "list"
      ]
     },
     "execution_count": 57,
     "metadata": {},
     "output_type": "execute_result"
    }
   ],
   "source": [
    "type(is_armstrong(153))"
   ]
  }
 ],
 "metadata": {
  "kernelspec": {
   "display_name": "Python (global_venv)",
   "language": "python",
   "name": "global_venv"
  },
  "language_info": {
   "codemirror_mode": {
    "name": "ipython",
    "version": 3
   },
   "file_extension": ".py",
   "mimetype": "text/x-python",
   "name": "python",
   "nbconvert_exporter": "python",
   "pygments_lexer": "ipython3",
   "version": "3.12.3"
  }
 },
 "nbformat": 4,
 "nbformat_minor": 2
}
