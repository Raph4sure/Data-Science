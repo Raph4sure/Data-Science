{
 "cells": [
  {
   "cell_type": "code",
   "execution_count": 2,
   "metadata": {},
   "outputs": [],
   "source": [
    "def calculate_area(width, height):\n",
    "    area = width * height\n",
    "    return area;"
   ]
  },
  {
   "cell_type": "code",
   "execution_count": 4,
   "metadata": {},
   "outputs": [
    {
     "data": {
      "text/plain": [
       "110"
      ]
     },
     "execution_count": 4,
     "metadata": {},
     "output_type": "execute_result"
    }
   ],
   "source": [
    "calculate_area(11, 10)"
   ]
  },
  {
   "cell_type": "code",
   "execution_count": 5,
   "metadata": {},
   "outputs": [],
   "source": [
    "def add(x,y):\n",
    "    return x+y\n",
    "\n",
    "def add_2(x,y):\n",
    "    print(x+y)"
   ]
  },
  {
   "cell_type": "code",
   "execution_count": 10,
   "metadata": {},
   "outputs": [
    {
     "name": "stdout",
     "output_type": "stream",
     "text": [
      "7\n"
     ]
    }
   ],
   "source": [
    "add_2(3,4)\n"
   ]
  },
  {
   "cell_type": "code",
   "execution_count": 9,
   "metadata": {},
   "outputs": [
    {
     "data": {
      "text/plain": [
       "9"
      ]
     },
     "execution_count": 9,
     "metadata": {},
     "output_type": "execute_result"
    }
   ],
   "source": [
    "add(3,6)"
   ]
  },
  {
   "cell_type": "code",
   "execution_count": 14,
   "metadata": {},
   "outputs": [
    {
     "name": "stdout",
     "output_type": "stream",
     "text": [
      "8\n"
     ]
    }
   ],
   "source": [
    "result2 = add_2(3,5)"
   ]
  },
  {
   "cell_type": "code",
   "execution_count": 15,
   "metadata": {},
   "outputs": [],
   "source": [
    "def my_first_function():\n",
    "    '''\n",
    "    Return an object that produces a sequence of integers from start (inclusive)\n",
    "    to stop (exclusive) by step.  range(i, j) produces i, i+1, i+2, ..., j-1.\n",
    "    start defaults to 0, and stop is omitted!  range(4) produces 0, 1, 2, 3.\n",
    "    These are exactly the valid indices for a list of 4 elements.\n",
    "    When step is given, it specifies the increment (or decrement).\n",
    "    '''\n",
    "    print('Hello Xterns')"
   ]
  },
  {
   "cell_type": "code",
   "execution_count": 17,
   "metadata": {},
   "outputs": [
    {
     "name": "stdout",
     "output_type": "stream",
     "text": [
      "\n",
      "    Return an object that produces a sequence of integers from start (inclusive)\n",
      "    to stop (exclusive) by step.  range(i, j) produces i, i+1, i+2, ..., j-1.\n",
      "    start defaults to 0, and stop is omitted!  range(4) produces 0, 1, 2, 3.\n",
      "    These are exactly the valid indices for a list of 4 elements.\n",
      "    When step is given, it specifies the increment (or decrement).\n",
      "    \n"
     ]
    }
   ],
   "source": [
    "print(my_first_function.__doc__)"
   ]
  },
  {
   "cell_type": "code",
   "execution_count": 45,
   "metadata": {},
   "outputs": [],
   "source": [
    "\n",
    "def square_no():\n",
    "    no = int(input())\n",
    "    square = no**2\n",
    "    print(f\"Inputed no is {no} and the square is {square}\");\n",
    "    # return(square)\n",
    "\n"
   ]
  },
  {
   "cell_type": "code",
   "execution_count": 46,
   "metadata": {},
   "outputs": [
    {
     "name": "stdout",
     "output_type": "stream",
     "text": [
      "Please input a no\n",
      "Inputed no is 7 and the square is 49\n"
     ]
    }
   ],
   "source": [
    "print(\"Please input a no\")\n",
    "square_no()"
   ]
  },
  {
   "cell_type": "code",
   "execution_count": null,
   "metadata": {},
   "outputs": [],
   "source": []
  }
 ],
 "metadata": {
  "kernelspec": {
   "display_name": "Python 3",
   "language": "python",
   "name": "python3"
  },
  "language_info": {
   "codemirror_mode": {
    "name": "ipython",
    "version": 3
   },
   "file_extension": ".py",
   "mimetype": "text/x-python",
   "name": "python",
   "nbconvert_exporter": "python",
   "pygments_lexer": "ipython3",
   "version": "3.12.3"
  }
 },
 "nbformat": 4,
 "nbformat_minor": 2
}
